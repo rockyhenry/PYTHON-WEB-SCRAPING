{
  "nbformat": 4,
  "nbformat_minor": 0,
  "metadata": {
    "colab": {
      "name": "Web scraping.ipynb",
      "provenance": [],
      "authorship_tag": "ABX9TyP+vCG61XV1CEXO66vg/pp1",
      "include_colab_link": true
    },
    "kernelspec": {
      "name": "python3",
      "display_name": "Python 3"
    },
    "language_info": {
      "name": "python"
    }
  },
  "cells": [
    {
      "cell_type": "markdown",
      "metadata": {
        "id": "view-in-github",
        "colab_type": "text"
      },
      "source": [
        "<a href=\"https://colab.research.google.com/github/rockyhenry/PYTHON-WEB-SCRAPING/blob/main/Web_scraping.ipynb\" target=\"_parent\"><img src=\"https://colab.research.google.com/assets/colab-badge.svg\" alt=\"Open In Colab\"/></a>"
      ]
    },
    {
      "cell_type": "markdown",
      "source": [
        "XML documents contain a hierarchical structure and can be theoretically understood as a tree structure known as an XML tree. A root element is required in all XML documents (one that is the parent of all other elements). All elements in an XML document can have sub-elements, text, and attributes."
      ],
      "metadata": {
        "id": "_BfB78ZGOLxT"
      }
    },
    {
      "cell_type": "markdown",
      "source": [
        "XML is a naturally hierarchical data format, thus a tree is the most obvious method to represent it. ET includes two classes for this purpose: ElementTree and Element. ElementTree represents the whole XML document as a tree, while Element represents a single node in this tree. Interactions with the entire document (reading and writing to/from files) are often performed at the ElementTree level. The Element level is where interactions with a single XML element and its sub-elements take place."
      ],
      "metadata": {
        "id": "igbAuT1aPGzB"
      }
    },
    {
      "cell_type": "code",
      "execution_count": 2,
      "metadata": {
        "id": "QHQ147XwUN_L",
        "colab": {
          "base_uri": "https://localhost:8080/"
        },
        "outputId": "8fc63e86-fa27-4bdd-9467-c0de5a8ad54f"
      },
      "outputs": [
        {
          "output_type": "stream",
          "name": "stdout",
          "text": [
            "Number of POTASSIUM present in pencillin 106\n",
            "['POTASSIUM', 'POTASSIUM', 'POTASSIUM', 'POTASSIUM', 'POTASSIUM', 'POTASSIUM', 'POTASSIUM', 'POTASSIUM', 'POTASSIUM', 'POTASSIUM', 'POTASSIUM', 'POTASSIUM', 'POTASSIUM', 'POTASSIUM', 'POTASSIUM', 'POTASSIUM', 'POTASSIUM', 'POTASSIUM', 'POTASSIUM', 'POTASSIUM', 'POTASSIUM', 'POTASSIUM', 'POTASSIUM', 'POTASSIUM', 'POTASSIUM', 'POTASSIUM', 'POTASSIUM', 'POTASSIUM', 'POTASSIUM', 'POTASSIUM', 'POTASSIUM', 'POTASSIUM', 'POTASSIUM', 'POTASSIUM', 'POTASSIUM', 'POTASSIUM', 'POTASSIUM', 'POTASSIUM', 'POTASSIUM', 'POTASSIUM', 'POTASSIUM', 'POTASSIUM', 'POTASSIUM', 'POTASSIUM', 'POTASSIUM', 'POTASSIUM', 'POTASSIUM', 'POTASSIUM', 'POTASSIUM', 'POTASSIUM', 'POTASSIUM', 'POTASSIUM', 'POTASSIUM', 'POTASSIUM', 'POTASSIUM', 'POTASSIUM', 'POTASSIUM', 'POTASSIUM', 'POTASSIUM', 'POTASSIUM', 'POTASSIUM', 'POTASSIUM', 'POTASSIUM', 'POTASSIUM', 'POTASSIUM', 'POTASSIUM', 'POTASSIUM', 'POTASSIUM', 'POTASSIUM', 'POTASSIUM', 'POTASSIUM', 'POTASSIUM', 'POTASSIUM', 'POTASSIUM', 'POTASSIUM', 'POTASSIUM', 'POTASSIUM', 'POTASSIUM', 'POTASSIUM', 'POTASSIUM', 'POTASSIUM', 'POTASSIUM', 'POTASSIUM', 'POTASSIUM', 'POTASSIUM', 'POTASSIUM', 'POTASSIUM', 'POTASSIUM', 'POTASSIUM', 'POTASSIUM', 'POTASSIUM', 'POTASSIUM', 'POTASSIUM', 'POTASSIUM', 'POTASSIUM', 'POTASSIUM', 'POTASSIUM', 'POTASSIUM', 'POTASSIUM', 'POTASSIUM', 'POTASSIUM', 'POTASSIUM', 'POTASSIUM', 'POTASSIUM', 'POTASSIUM', 'POTASSIUM']\n"
          ]
        }
      ],
      "source": [
        "import xml.etree.ElementTree as ET\n",
        "resutls=[]\n",
        "tree = ET.parse('/content/CID_23664709.xml')#Path of the file \n",
        "root = tree.getroot()\n",
        "XS = '{http://pubchem.ncbi.nlm.nih.gov/pug_view}'\n",
        "informationNodeList = root.findall('.//'+XS+'Information')#Find the all nodes in XML\n",
        "for informationnode in informationNodeList:\n",
        "    s=informationnode.findtext(XS +'StringValue') #find the text in all nodes \n",
        "    resutls.append('POTASSIUM') #Filter the Potassium and append \n",
        "    \n",
        "print('Number of POTASSIUM present in pencillin',len(resutls))\n",
        "print(resutls)\n"
      ]
    }
  ]
}